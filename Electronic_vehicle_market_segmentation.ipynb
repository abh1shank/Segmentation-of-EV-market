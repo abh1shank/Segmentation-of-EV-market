{
 "cells": [
  {
   "cell_type": "code",
   "execution_count": 1,
   "id": "45974187",
   "metadata": {},
   "outputs": [],
   "source": [
    "import pandas as pd\n",
    "import numpy as np\n",
    "import matplotlib.pyplot as plt\n",
    "import seaborn as sns"
   ]
  },
  {
   "cell_type": "code",
   "execution_count": 2,
   "id": "c4a7b11a",
   "metadata": {},
   "outputs": [],
   "source": [
    "#LOADING THE DATA"
   ]
  },
  {
   "cell_type": "code",
   "execution_count": 3,
   "id": "f79dcb34",
   "metadata": {},
   "outputs": [],
   "source": [
    "indian_data=pd.read_csv('Indian automoble buying behavour study 1.0.csv')\n",
    "car_data=pd.read_csv('ElectricCarData_Clean_Me.csv')\n",
    "state_wise_ev=pd.read_csv('EVStats.csv')"
   ]
  },
  {
   "cell_type": "code",
   "execution_count": 4,
   "id": "762d89b1",
   "metadata": {},
   "outputs": [
    {
     "ename": "NameError",
     "evalue": "name 'indin_data' is not defined",
     "output_type": "error",
     "traceback": [
      "\u001b[1;31m---------------------------------------------------------------------------\u001b[0m",
      "\u001b[1;31mNameError\u001b[0m                                 Traceback (most recent call last)",
      "Cell \u001b[1;32mIn[4], line 3\u001b[0m\n\u001b[0;32m      1\u001b[0m car_data\u001b[38;5;241m=\u001b[39mcar_data\u001b[38;5;241m.\u001b[39mdrop(\u001b[38;5;124m'\u001b[39m\u001b[38;5;124mModel\u001b[39m\u001b[38;5;124m'\u001b[39m,axis\u001b[38;5;241m=\u001b[39m\u001b[38;5;241m1\u001b[39m)\n\u001b[0;32m      2\u001b[0m car_data\u001b[38;5;241m=\u001b[39mcar_data\u001b[38;5;241m.\u001b[39mdrop(\u001b[38;5;124m'\u001b[39m\u001b[38;5;124mBrand\u001b[39m\u001b[38;5;124m'\u001b[39m,axis\u001b[38;5;241m=\u001b[39m\u001b[38;5;241m1\u001b[39m)\n\u001b[1;32m----> 3\u001b[0m indian_data\u001b[38;5;241m=\u001b[39m\u001b[43mindin_data\u001b[49m\u001b[38;5;241m.\u001b[39mdrop(\u001b[38;5;124m'\u001b[39m\u001b[38;5;124mMake\u001b[39m\u001b[38;5;124m'\u001b[39m,axis\u001b[38;5;241m=\u001b[39m\u001b[38;5;241m1\u001b[39m)\n",
      "\u001b[1;31mNameError\u001b[0m: name 'indin_data' is not defined"
     ]
    }
   ],
   "source": [
    "car_data=car_data.drop('Model',axis=1)\n",
    "car_data=car_data.drop('Brand',axis=1)\n",
    "indian_data=indin_data.drop('Make',axis=1)"
   ]
  },
  {
   "cell_type": "code",
   "execution_count": null,
   "id": "f84f3e73",
   "metadata": {},
   "outputs": [],
   "source": [
    "indian_data.head(5)"
   ]
  },
  {
   "cell_type": "code",
   "execution_count": null,
   "id": "68037341",
   "metadata": {},
   "outputs": [],
   "source": [
    "car_data.head()"
   ]
  },
  {
   "cell_type": "code",
   "execution_count": null,
   "id": "5588f46c",
   "metadata": {},
   "outputs": [],
   "source": [
    "#SCATTER PLOTS TO SEE RELATION OF EACH ATTRIBUTE WITH CAR PRICE"
   ]
  },
  {
   "cell_type": "code",
   "execution_count": null,
   "id": "305b2ee6",
   "metadata": {},
   "outputs": [],
   "source": [
    "plt.figure(figsize=(12,6))\n",
    "sns.scatterplot(x='INR',y='AccelSec',data=car_data)"
   ]
  },
  {
   "cell_type": "code",
   "execution_count": null,
   "id": "8fa226cd",
   "metadata": {},
   "outputs": [],
   "source": [
    "plt.figure(figsize=(12,6))\n",
    "sns.scatterplot(x='INR',y='TopSpeed_KmH',data=car_data)"
   ]
  },
  {
   "cell_type": "code",
   "execution_count": null,
   "id": "28dcfe49",
   "metadata": {},
   "outputs": [],
   "source": [
    "plt.figure(figsize=(12,6))\n",
    "sns.scatterplot(x='INR',y='Range_Km',data=car_data)"
   ]
  },
  {
   "cell_type": "code",
   "execution_count": null,
   "id": "c9cd4c9e",
   "metadata": {},
   "outputs": [],
   "source": [
    "plt.figure(figsize=(12,6))\n",
    "sns.scatterplot(x='INR',y='Battery_Pack Kwh',data=car_data)"
   ]
  },
  {
   "cell_type": "code",
   "execution_count": null,
   "id": "b4a9f7e8",
   "metadata": {},
   "outputs": [],
   "source": [
    "plt.figure(figsize=(12,6))\n",
    "sns.scatterplot(x='INR',y='Efficiency_WhKm',data=car_data)"
   ]
  },
  {
   "cell_type": "code",
   "execution_count": null,
   "id": "f6524586",
   "metadata": {},
   "outputs": [],
   "source": [
    "plt.figure(figsize=(12,6))\n",
    "sns.scatterplot(x='INR',y='Seats',data=car_data)"
   ]
  },
  {
   "cell_type": "code",
   "execution_count": null,
   "id": "8f0849b5",
   "metadata": {},
   "outputs": [],
   "source": [
    "state_wise_ev.head()"
   ]
  },
  {
   "cell_type": "code",
   "execution_count": null,
   "id": "e3b0dc9e",
   "metadata": {},
   "outputs": [],
   "source": [
    "#FREQUENCY OF EACH FEATURE DEPICTED VIA HISTOGRAMS"
   ]
  },
  {
   "cell_type": "code",
   "execution_count": null,
   "id": "d55562f9",
   "metadata": {},
   "outputs": [],
   "source": [
    "indian_fig, indian_axes = plt.subplots(nrows=4, ncols=3, figsize=(25, 20))\n",
    "indian_axes=indian_axes.flatten()\n",
    "for i,col in enumerate(indian_data.columns):\n",
    "    indian_axes[i].hist(indian_data[col], bins=30, color='blue', alpha=0.7)\n",
    "    indian_axes[i].set_xlabel(f'{col}')\n",
    "    indian_axes[i].set_ylabel('Frequency')\n",
    "plt.show()"
   ]
  },
  {
   "cell_type": "code",
   "execution_count": null,
   "id": "8ddfd934",
   "metadata": {},
   "outputs": [],
   "source": [
    "car_fig, car_axes = plt.subplots(nrows=7, ncols=2, figsize=(25, 25))\n",
    "car_axes=car_axes.flatten()\n",
    "for i,col in enumerate(car_data.columns):\n",
    "    car_axes[i].hist(car_data[col], bins=30, color='green', alpha=0.7)\n",
    "    car_axes[i].set_xlabel(f'{col}')\n",
    "    car_axes[i].set_ylabel('Frequency')\n",
    "plt.show()"
   ]
  },
  {
   "cell_type": "code",
   "execution_count": null,
   "id": "12982f8b",
   "metadata": {},
   "outputs": [],
   "source": [
    "import seaborn as sns\n",
    "sns.heatmap(car_data.corr(),annot=True)"
   ]
  },
  {
   "cell_type": "code",
   "execution_count": null,
   "id": "c70fe724",
   "metadata": {},
   "outputs": [],
   "source": [
    "sns.heatmap(indian_data.corr(),annot=True)"
   ]
  },
  {
   "cell_type": "code",
   "execution_count": null,
   "id": "58be1c4e",
   "metadata": {},
   "outputs": [],
   "source": [
    "#STUDY OF BEHAVIOURIAL DATA THAT IS HOW PRICE OF CAR OWNED CHANGES WITH VARIOUS ATTRIBUTES IN INDIAN HOUSEHOLDS"
   ]
  },
  {
   "cell_type": "code",
   "execution_count": null,
   "id": "49a4152a",
   "metadata": {},
   "outputs": [],
   "source": [
    "avg_salaried = indian_data[indian_data['Profession'] == 'Salaried']['Price'].mean()\n",
    "avg_business = indian_data[indian_data['Profession'] == 'Business']['Price'].mean()\n",
    "\n",
    "# Plot histogram for average prices\n",
    "plt.bar(['Salaried', 'Business'], [avg_salaried, avg_business], color=['blue', 'red'])\n",
    "\n",
    "plt.title('Average Prices of car owned for Professions')\n",
    "plt.xlabel('Profession')\n",
    "plt.ylabel('Average Price')\n",
    "plt.show()"
   ]
  },
  {
   "cell_type": "code",
   "execution_count": null,
   "id": "57d71b27",
   "metadata": {},
   "outputs": [],
   "source": [
    "avg_single = indian_data[indian_data['Marrital Status'] == 'Single']['Price'].mean()\n",
    "avg_married = indian_data[indian_data['Marrital Status'] == 'Married']['Price'].mean()\n",
    "\n",
    "plt.bar(['Single', 'Married'], [avg_single, avg_married], color=['blue', 'red'])\n",
    "\n",
    "plt.title('Average Prices of car owned wrt Marital Status')\n",
    "plt.xlabel('Marital Status')\n",
    "plt.ylabel('Average Price')\n",
    "plt.show()"
   ]
  },
  {
   "cell_type": "code",
   "execution_count": null,
   "id": "a55df1a5",
   "metadata": {},
   "outputs": [],
   "source": [
    "avg_workingwife = indian_data[indian_data['Wife Working'] == 'Yes']['Price'].mean()\n",
    "avg_housewife = indian_data[indian_data['Wife Working'] == 'No']['Price'].mean()\n",
    "\n",
    "plt.bar(['Working Wife', 'House Wife'], [avg_workingwife, avg_housewife], color=['blue', 'red'])\n",
    "\n",
    "plt.title('Average Prices of car owned wrt working status of wife')\n",
    "plt.xlabel('Status')\n",
    "plt.ylabel('Average Price')\n",
    "plt.show()"
   ]
  },
  {
   "cell_type": "code",
   "execution_count": null,
   "id": "7ee0efae",
   "metadata": {},
   "outputs": [],
   "source": [
    "avg_post_graduate = indian_data[indian_data['Education'] == 'Post Graduate']['Price'].mean()\n",
    "avg_graduate = indian_data[indian_data['Education'] == 'Graduate']['Price'].mean()\n",
    "\n",
    "plt.bar(['Graduate', 'Post Graduate'], [avg_graduate, avg_post_graduate], color=['blue', 'red'])\n",
    "\n",
    "plt.title('Average Prices of car owned wrt level of education they have')\n",
    "plt.xlabel('Status')\n",
    "plt.ylabel('Average Price')\n",
    "plt.show()"
   ]
  },
  {
   "cell_type": "code",
   "execution_count": null,
   "id": "b177bab0",
   "metadata": {},
   "outputs": [],
   "source": [
    "sns.scatterplot(x='No of Dependents',y='Price',data=indian_data,color='Green')"
   ]
  },
  {
   "cell_type": "code",
   "execution_count": null,
   "id": "36120713",
   "metadata": {},
   "outputs": [],
   "source": [
    "sns.scatterplot(x='Total Salary',y='Price',data=indian_data,color='Green')"
   ]
  },
  {
   "cell_type": "code",
   "execution_count": null,
   "id": "aab9d51f",
   "metadata": {},
   "outputs": [],
   "source": []
  },
  {
   "cell_type": "code",
   "execution_count": null,
   "id": "484bde36",
   "metadata": {},
   "outputs": [],
   "source": []
  },
  {
   "cell_type": "code",
   "execution_count": null,
   "id": "e6278dc9",
   "metadata": {},
   "outputs": [],
   "source": [
    "#CLUSTERING THE DATA"
   ]
  },
  {
   "cell_type": "code",
   "execution_count": null,
   "id": "e39be3e0",
   "metadata": {},
   "outputs": [],
   "source": [
    "#1: K-MEANS CLUSTERING \n",
    "from sklearn.cluster import KMeans\n",
    "from sklearn.decomposition import PCA\n",
    "from sklearn.preprocessing import StandardScaler"
   ]
  },
  {
   "cell_type": "code",
   "execution_count": null,
   "id": "443fd55e",
   "metadata": {},
   "outputs": [],
   "source": [
    "#APPLYING PCA TO THE DATA IN ORDER TO REDUCE FEATURES WHILE RETAINING VARIANCE\n",
    "indian_data_encoded=pd.get_dummies(indian_data)\n",
    "scaler = StandardScaler()\n",
    "indian_data_scaled = scaler.fit_transform(indian_data_encoded)\n",
    "pca = PCA()\n",
    "pca_result = pca.fit_transform(indian_data_scaled)\n",
    "plt.plot(range(1, min(indian_data_scaled.shape[0], indian_data_scaled.shape[1]) + 1), np.cumsum(pca.explained_variance_ratio_), marker='o')\n",
    "plt.xlabel('Number of Components')\n",
    "plt.ylabel('Cumulative Explained Variance')\n",
    "plt.title('Explained Variance vs. Number of Components')\n",
    "plt.show()"
   ]
  },
  {
   "cell_type": "code",
   "execution_count": null,
   "id": "5cd703ff",
   "metadata": {},
   "outputs": [],
   "source": [
    "pca = PCA(n_components=14)\n",
    "pca_result = pca.fit_transform(indian_data_scaled)\n",
    "\n",
    "# Create a DataFrame with the principal components\n",
    "princ_comp_df = pd.DataFrame(data=pca_result, columns=[f'PC{i}' for i in range(1,15)])"
   ]
  },
  {
   "cell_type": "code",
   "execution_count": null,
   "id": "9ceb1377",
   "metadata": {},
   "outputs": [],
   "source": [
    "inertia=[]\n",
    "\n",
    "for i in range(1,8):\n",
    "    kmeans=KMeans(n_clusters=i,random_state=42)\n",
    "    kmeans.fit(princ_comp_df)\n",
    "    inertia.append(kmeans.inertia_)\n",
    "\n",
    "plt.plot(range(1, 8), inertia, marker='o')\n",
    "plt.xlabel('Number of Clusters (k)')\n",
    "plt.ylabel('Sum of Squared Distances (Inertia)')\n",
    "plt.title('Elbow Method for Optimal k')\n",
    "plt.show()"
   ]
  },
  {
   "cell_type": "code",
   "execution_count": null,
   "id": "cf25bd29",
   "metadata": {},
   "outputs": [],
   "source": [
    "#FOUR is the ideal number of clusters"
   ]
  },
  {
   "cell_type": "code",
   "execution_count": null,
   "id": "f9bc0753",
   "metadata": {},
   "outputs": [],
   "source": [
    "kmeans = KMeans(n_clusters=4, random_state=42)\n",
    "princ_comp_df['Cluster'] = kmeans.fit_predict(princ_comp_df)\n",
    "feature_columns=princ_comp_df.columns"
   ]
  },
  {
   "cell_type": "code",
   "execution_count": null,
   "id": "deb86d74",
   "metadata": {},
   "outputs": [],
   "source": [
    "feature_columns"
   ]
  },
  {
   "cell_type": "code",
   "execution_count": null,
   "id": "46a9f239",
   "metadata": {},
   "outputs": [],
   "source": [
    "fig, ax = plt.subplots(figsize=(10, 6))\n",
    "scatter = ax.scatter(princ_comp_df['PC1'], princ_comp_df['PC2'], c=princ_comp_df['Cluster'], cmap='viridis', alpha=0.5)\n",
    "ax.scatter(kmeans.cluster_centers_[:, 0], kmeans.cluster_centers_[:, 1], c='red', marker='X', s=200, label='Centroids')\n",
    "ax.set_xlabel('PC1')\n",
    "ax.set_ylabel('PC2')\n",
    "ax.set_title('K-Means Clustering')\n",
    "ax.legend()"
   ]
  }
 ],
 "metadata": {
  "kernelspec": {
   "display_name": "Python 3 (ipykernel)",
   "language": "python",
   "name": "python3"
  },
  "language_info": {
   "codemirror_mode": {
    "name": "ipython",
    "version": 3
   },
   "file_extension": ".py",
   "mimetype": "text/x-python",
   "name": "python",
   "nbconvert_exporter": "python",
   "pygments_lexer": "ipython3",
   "version": "3.11.3"
  }
 },
 "nbformat": 4,
 "nbformat_minor": 5
}
